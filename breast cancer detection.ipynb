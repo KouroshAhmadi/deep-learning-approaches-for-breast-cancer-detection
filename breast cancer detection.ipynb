{
 "cells": [
  {
   "cell_type": "code",
   "execution_count": 1,
   "id": "84622088",
   "metadata": {
    "_cell_guid": "b1076dfc-b9ad-4769-8c92-a6c4dae69d19",
    "_uuid": "8f2839f25d086af736a60e9eeb907d3b93b6e0e5",
    "execution": {
     "iopub.execute_input": "2021-11-03T11:38:08.509190Z",
     "iopub.status.busy": "2021-11-03T11:38:08.506926Z",
     "iopub.status.idle": "2021-11-03T11:38:08.600613Z",
     "shell.execute_reply": "2021-11-03T11:38:08.599923Z",
     "shell.execute_reply.started": "2021-10-26T15:06:45.804392Z"
    },
    "papermill": {
     "duration": 0.144245,
     "end_time": "2021-11-03T11:38:08.600856",
     "exception": false,
     "start_time": "2021-11-03T11:38:08.456611",
     "status": "completed"
    },
    "tags": []
   },
   "outputs": [],
   "source": [
    "# This Python 3 environment comes with many helpful analytics libraries installed\n",
    "# It is defined by the kaggle/python Docker image: https://github.com/kaggle/docker-python\n",
    "# For example, here's several helpful packages to load\n",
    "\n",
    "import numpy as np # linear algebra\n",
    "import pandas as pd # data processing, CSV file I/O (e.g. pd.read_csv)\n",
    "\n",
    "# Input data files are available in the read-only \"../input/\" directory\n",
    "# For example, running this (by clicking run or pressing Shift+Enter) will list all files under the input directory\n",
    "\n",
    "import os\n",
    "# for dirname, _, filenames in os.walk('/kaggle/input'):\n",
    "#     for filename in filenames:\n",
    "#         print(os.path.join(dirname, filename))\n",
    "\n",
    "# You can write up to 20GB to the current directory (/kaggle/working/) that gets preserved as output when you create a version using \"Save & Run All\" \n",
    "# You can also write temporary files to /kaggle/temp/, but they won't be saved outside of the current session"
   ]
  },
  {
   "cell_type": "code",
   "execution_count": 2,
   "id": "e02bdebf",
   "metadata": {
    "execution": {
     "iopub.execute_input": "2021-11-03T11:38:08.661305Z",
     "iopub.status.busy": "2021-11-03T11:38:08.660572Z",
     "iopub.status.idle": "2021-11-03T11:38:20.138264Z",
     "shell.execute_reply": "2021-11-03T11:38:20.137652Z",
     "shell.execute_reply.started": "2021-10-26T15:29:44.982917Z"
    },
    "papermill": {
     "duration": 11.507536,
     "end_time": "2021-11-03T11:38:20.138417",
     "exception": false,
     "start_time": "2021-11-03T11:38:08.630881",
     "status": "completed"
    },
    "tags": []
   },
   "outputs": [
    {
     "name": "stdout",
     "output_type": "stream",
     "text": [
      "Collecting openpyxl\r\n",
      "  Downloading openpyxl-3.0.9-py2.py3-none-any.whl (242 kB)\r\n",
      "\u001b[K     |████████████████████████████████| 242 kB 545 kB/s \r\n",
      "\u001b[?25hCollecting et-xmlfile\r\n",
      "  Downloading et_xmlfile-1.1.0-py3-none-any.whl (4.7 kB)\r\n",
      "Installing collected packages: et-xmlfile, openpyxl\r\n",
      "Successfully installed et-xmlfile-1.1.0 openpyxl-3.0.9\r\n",
      "\u001b[33mWARNING: Running pip as the 'root' user can result in broken permissions and conflicting behaviour with the system package manager. It is recommended to use a virtual environment instead: https://pip.pypa.io/warnings/venv\u001b[0m\r\n",
      "Note: you may need to restart the kernel to use updated packages.\n"
     ]
    }
   ],
   "source": [
    "pip install openpyxl"
   ]
  },
  {
   "cell_type": "code",
   "execution_count": 3,
   "id": "dafdc38d",
   "metadata": {
    "execution": {
     "iopub.execute_input": "2021-11-03T11:38:20.207665Z",
     "iopub.status.busy": "2021-11-03T11:38:20.206569Z",
     "iopub.status.idle": "2021-11-03T11:38:25.570165Z",
     "shell.execute_reply": "2021-11-03T11:38:25.569342Z",
     "shell.execute_reply.started": "2021-10-26T15:06:45.812759Z"
    },
    "papermill": {
     "duration": 5.402104,
     "end_time": "2021-11-03T11:38:25.570325",
     "exception": false,
     "start_time": "2021-11-03T11:38:20.168221",
     "status": "completed"
    },
    "tags": []
   },
   "outputs": [
    {
     "name": "stderr",
     "output_type": "stream",
     "text": [
      "2021-11-03 11:38:20.761045: I tensorflow/stream_executor/platform/default/dso_loader.cc:49] Successfully opened dynamic library libcudart.so.11.0\n"
     ]
    }
   ],
   "source": [
    "from tensorflow import keras\n",
    "import cv2\n",
    "from tensorflow.keras.preprocessing.image import load_img ,img_to_array\n",
    "import matplotlib.pyplot as plt\n",
    "from tensorflow.keras import Model\n",
    "from tensorflow.keras.models import Sequential \n",
    "from tensorflow.keras.layers import Conv2D\n",
    "from tensorflow.keras.layers import MaxPooling2D,AveragePooling2D,BatchNormalization\n",
    "from tensorflow.keras.layers import Dense,Activation\n",
    "from tensorflow.keras.layers import Flatten,Dropout,SpatialDropout2D,AveragePooling2D,GlobalAveragePooling2D\n",
    "from tensorflow.keras.optimizers import SGD\n",
    "from tensorflow.keras.optimizers import Adam\n",
    "import tensorflow as tf\n",
    "from tensorflow.keras.callbacks import EarlyStopping, ModelCheckpoint"
   ]
  },
  {
   "cell_type": "code",
   "execution_count": 4,
   "id": "526958b5",
   "metadata": {
    "execution": {
     "iopub.execute_input": "2021-11-03T11:38:25.684607Z",
     "iopub.status.busy": "2021-11-03T11:38:25.682910Z",
     "iopub.status.idle": "2021-11-03T11:38:26.023959Z",
     "shell.execute_reply": "2021-11-03T11:38:26.024797Z",
     "shell.execute_reply.started": "2021-10-26T15:06:50.451489Z"
    },
    "papermill": {
     "duration": 0.420754,
     "end_time": "2021-11-03T11:38:26.025114",
     "exception": false,
     "start_time": "2021-11-03T11:38:25.604360",
     "status": "completed"
    },
    "tags": []
   },
   "outputs": [
    {
     "data": {
      "text/plain": [
       "{'benign': 891, 'normal': 266, 'malignant': 421}"
      ]
     },
     "execution_count": 4,
     "metadata": {},
     "output_type": "execute_result"
    }
   ],
   "source": [
    "path = \"/kaggle/input/breast-ultrasound-images-dataset/Dataset_BUSI_with_GT\"\n",
    "dir_list = [os.path.join(path,i) for i in os.listdir(path)]\n",
    "size_dict = {}\n",
    "for i,value in enumerate(dir_list):\n",
    "    size_dict[os.listdir(path)[i]] = len(os.listdir(value))\n",
    "size_dict "
   ]
  },
  {
   "cell_type": "code",
   "execution_count": 5,
   "id": "48038177",
   "metadata": {
    "execution": {
     "iopub.execute_input": "2021-11-03T11:38:26.147781Z",
     "iopub.status.busy": "2021-11-03T11:38:26.146519Z",
     "iopub.status.idle": "2021-11-03T11:38:26.149583Z",
     "shell.execute_reply": "2021-11-03T11:38:26.148738Z",
     "shell.execute_reply.started": "2021-10-26T15:06:50.871284Z"
    },
    "papermill": {
     "duration": 0.068172,
     "end_time": "2021-11-03T11:38:26.149791",
     "exception": false,
     "start_time": "2021-11-03T11:38:26.081619",
     "status": "completed"
    },
    "tags": []
   },
   "outputs": [],
   "source": [
    "import re\n",
    "def clean(name):\n",
    "    name = re.sub('[benign ().p]','',str(name))\n",
    "    return name"
   ]
  },
  {
   "cell_type": "code",
   "execution_count": 6,
   "id": "327a937e",
   "metadata": {
    "execution": {
     "iopub.execute_input": "2021-11-03T11:38:26.261441Z",
     "iopub.status.busy": "2021-11-03T11:38:26.260454Z",
     "iopub.status.idle": "2021-11-03T11:38:26.287489Z",
     "shell.execute_reply": "2021-11-03T11:38:26.288759Z",
     "shell.execute_reply.started": "2021-10-26T15:06:50.87897Z"
    },
    "papermill": {
     "duration": 0.088679,
     "end_time": "2021-11-03T11:38:26.289034",
     "exception": false,
     "start_time": "2021-11-03T11:38:26.200355",
     "status": "completed"
    },
    "tags": []
   },
   "outputs": [
    {
     "name": "stdout",
     "output_type": "stream",
     "text": [
      "437\n"
     ]
    }
   ],
   "source": [
    "df = pd.DataFrame(os.listdir(dir_list[0]))\n",
    "# df = df.apply(str,axis=1)\n",
    "df = df[0].apply(clean)\n",
    "# print(df.info())\n",
    "df = df[~df.str.contains('mask',regex =False)]\n",
    "df = df.apply(int)\n",
    "df_list = list(df)\n",
    "type(df_list)\n",
    "df_list.sort()\n",
    "print(len(df_list))"
   ]
  },
  {
   "cell_type": "code",
   "execution_count": 7,
   "id": "b81687a4",
   "metadata": {
    "execution": {
     "iopub.execute_input": "2021-11-03T11:38:26.403858Z",
     "iopub.status.busy": "2021-11-03T11:38:26.402830Z",
     "iopub.status.idle": "2021-11-03T11:38:26.408338Z",
     "shell.execute_reply": "2021-11-03T11:38:26.409902Z",
     "shell.execute_reply.started": "2021-10-26T15:06:50.899532Z"
    },
    "papermill": {
     "duration": 0.069398,
     "end_time": "2021-11-03T11:38:26.410126",
     "exception": false,
     "start_time": "2021-11-03T11:38:26.340728",
     "status": "completed"
    },
    "tags": []
   },
   "outputs": [],
   "source": [
    "img_size = 128\n",
    "img_channel = 3\n",
    "X_b , Xm_b , y_b = np.zeros((437,img_size,img_size,img_channel)) , np.zeros((437,img_size,img_size,img_channel)) , np.full(437,'benign') \n",
    "X_n , Xm_n , y_n = np.zeros((133,img_size,img_size,img_channel)) , np.zeros((133,img_size,img_size,img_channel)) , np.full(133,'normal') \n",
    "X_m , Xm_m , y_m = np.zeros((210,img_size,img_size,img_channel)) , np.zeros((210,img_size,img_size,img_channel)) , np.full(210,'malignant')"
   ]
  },
  {
   "cell_type": "code",
   "execution_count": 8,
   "id": "c2490d0e",
   "metadata": {
    "execution": {
     "iopub.execute_input": "2021-11-03T11:38:26.529303Z",
     "iopub.status.busy": "2021-11-03T11:38:26.528294Z",
     "iopub.status.idle": "2021-11-03T11:38:47.229933Z",
     "shell.execute_reply": "2021-11-03T11:38:47.229290Z",
     "shell.execute_reply.started": "2021-10-26T15:06:50.908098Z"
    },
    "papermill": {
     "duration": 20.76892,
     "end_time": "2021-11-03T11:38:47.230096",
     "exception": false,
     "start_time": "2021-11-03T11:38:26.461176",
     "status": "completed"
    },
    "tags": []
   },
   "outputs": [
    {
     "name": "stdout",
     "output_type": "stream",
     "text": [
      "(128, 128, 3)\n"
     ]
    }
   ],
   "source": [
    "img1_path = os.path.join(os.path.join(path,'benign'),os.listdir(os.path.join(path,'benign'))[1])\n",
    "\n",
    "pil_img = load_img(img1_path,color_mode = 'rgb',target_size=(img_size,img_size))\n",
    "img = img_to_array(pil_img)\n",
    "img_shape = img.shape\n",
    "print(img_shape)\n",
    "\n",
    "def img_num(filename):\n",
    "    \n",
    "    val = 0\n",
    "    \n",
    "    for i in range(len(filename)) :\n",
    "        if filename[i] == '(' :\n",
    "            while True :\n",
    "                i += 1\n",
    "                if filename[i] == ')' :\n",
    "                    break\n",
    "                val = (val*10) + int(filename[i])\n",
    "            break\n",
    "    \n",
    "    return val\n",
    "\n",
    "for tumor_path in dir_list :\n",
    "    for image in os.listdir(tumor_path) :\n",
    "        p = os.path.join(tumor_path, image)\n",
    "        pil_img = load_img(p,color_mode = 'rgb',target_size=(img_size,img_size))         # read image as  grayscale ans resize it\n",
    "        \n",
    "        if image[-5] == ')' :                                   #if real image \n",
    "            \n",
    "            if image[0] == 'b' :\n",
    "                X_b[img_num(image)-1]+= img_to_array(pil_img)  # If image is real add it\n",
    "            if image[0] == 'n' :                               # to X as benign , normal\n",
    "                X_n[img_num(image)-1]+= img_to_array(pil_img)  # or malignant.\n",
    "            if image[0] == 'm' :\n",
    "                X_m[img_num(image)-1]+= img_to_array(pil_img)\n",
    "        else :                                                 #else masked image\n",
    "            \n",
    "            if image[0] == 'b' :\n",
    "                Xm_b[img_num(image)-1]+= img_to_array(pil_img)  # Similarly add the target\n",
    "            if image[0] == 'n' :                               # mask to y.\n",
    "                Xm_n[img_num(image)-1]+= img_to_array(pil_img)\n",
    "            if image[0] == 'm' :\n",
    "                Xm_m[img_num(image)-1]+= img_to_array(pil_img)"
   ]
  },
  {
   "cell_type": "code",
   "execution_count": 9,
   "id": "23e307e9",
   "metadata": {
    "execution": {
     "iopub.execute_input": "2021-11-03T11:38:47.304583Z",
     "iopub.status.busy": "2021-11-03T11:38:47.303120Z",
     "iopub.status.idle": "2021-11-03T11:38:47.737834Z",
     "shell.execute_reply": "2021-11-03T11:38:47.738457Z",
     "shell.execute_reply.started": "2021-10-26T15:07:13.087491Z"
    },
    "papermill": {
     "duration": 0.474561,
     "end_time": "2021-11-03T11:38:47.738637",
     "exception": false,
     "start_time": "2021-11-03T11:38:47.264076",
     "status": "completed"
    },
    "tags": []
   },
   "outputs": [
    {
     "name": "stdout",
     "output_type": "stream",
     "text": [
      "(780, 128, 128, 3)\n",
      "(780, 128, 128, 3)\n",
      "(780,)\n",
      "1.0\n",
      "0.0\n"
     ]
    }
   ],
   "source": [
    "X = np.concatenate((X_b, X_n, X_m), axis = 0)\n",
    "Xm = np.concatenate((Xm_b, Xm_n, Xm_m), axis = 0)\n",
    "y = np.concatenate((y_b, y_n, y_m), axis = 0)\n",
    "\n",
    "print(X.shape)\n",
    "print(Xm.shape)\n",
    "print(y.shape)\n",
    "X /= 255.0\n",
    "Xm /= 255.0\n",
    "\n",
    "print(X.max())\n",
    "print(Xm.min())"
   ]
  },
  {
   "cell_type": "code",
   "execution_count": 10,
   "id": "9a256672",
   "metadata": {
    "execution": {
     "iopub.execute_input": "2021-11-03T11:38:47.811941Z",
     "iopub.status.busy": "2021-11-03T11:38:47.811182Z",
     "iopub.status.idle": "2021-11-03T11:38:48.916307Z",
     "shell.execute_reply": "2021-11-03T11:38:48.917179Z",
     "shell.execute_reply.started": "2021-10-26T15:07:13.43033Z"
    },
    "papermill": {
     "duration": 1.146792,
     "end_time": "2021-11-03T11:38:48.917441",
     "exception": false,
     "start_time": "2021-11-03T11:38:47.770649",
     "status": "completed"
    },
    "tags": []
   },
   "outputs": [
    {
     "name": "stdout",
     "output_type": "stream",
     "text": [
      "(596, 128, 128, 3) (117, 128, 128, 3)\n",
      "(596, 3) (117, 3)\n"
     ]
    }
   ],
   "source": [
    "from sklearn.model_selection import train_test_split\n",
    "from sklearn.preprocessing import OneHotEncoder\n",
    "\n",
    "encoder  = OneHotEncoder()\n",
    "# y = y.toarray()\n",
    "y=encoder.fit_transform(y.reshape(y.shape[0],1))\n",
    "\n",
    "X_train,X_test,y_train,y_test = train_test_split(X,y,test_size = 0.15,shuffle=True,random_state=42)\n",
    "X_train,X_val,y_train,y_val = train_test_split(X_train,y_train,test_size=0.1,random_state=42,stratify = y_train.toarray())\n",
    "Xm_train,Xm_test,ym_train,ym_test = train_test_split(Xm,y,test_size = 0.15,shuffle=True,random_state=42,stratify=y.toarray())\n",
    "Xm_train,Xm_val,ym_train,ym_val = train_test_split(Xm_train,ym_train,test_size=0.1,random_state=42,stratify = ym_train.toarray())\n",
    "\n",
    "class_list = encoder.categories_\n",
    "print(X_train.shape,X_test.shape)\n",
    "print(y_train.shape,y_test.shape)"
   ]
  },
  {
   "cell_type": "code",
   "execution_count": 11,
   "id": "9b6d2516",
   "metadata": {
    "execution": {
     "iopub.execute_input": "2021-11-03T11:38:48.995900Z",
     "iopub.status.busy": "2021-11-03T11:38:48.995035Z",
     "iopub.status.idle": "2021-11-03T11:39:11.819014Z",
     "shell.execute_reply": "2021-11-03T11:39:11.818393Z",
     "shell.execute_reply.started": "2021-10-26T15:07:14.275813Z"
    },
    "papermill": {
     "duration": 22.867247,
     "end_time": "2021-11-03T11:39:11.819169",
     "exception": false,
     "start_time": "2021-11-03T11:38:48.951922",
     "status": "completed"
    },
    "tags": []
   },
   "outputs": [
    {
     "name": "stderr",
     "output_type": "stream",
     "text": [
      "2021-11-03 11:38:49.029901: I tensorflow/compiler/jit/xla_cpu_device.cc:41] Not creating XLA devices, tf_xla_enable_xla_devices not set\n",
      "2021-11-03 11:38:49.033632: I tensorflow/stream_executor/platform/default/dso_loader.cc:49] Successfully opened dynamic library libcuda.so.1\n",
      "2021-11-03 11:38:49.084014: I tensorflow/stream_executor/cuda/cuda_gpu_executor.cc:941] successful NUMA node read from SysFS had negative value (-1), but there must be at least one NUMA node, so returning NUMA node zero\n",
      "2021-11-03 11:38:49.085024: I tensorflow/core/common_runtime/gpu/gpu_device.cc:1720] Found device 0 with properties: \n",
      "pciBusID: 0000:00:04.0 name: Tesla P100-PCIE-16GB computeCapability: 6.0\n",
      "coreClock: 1.3285GHz coreCount: 56 deviceMemorySize: 15.90GiB deviceMemoryBandwidth: 681.88GiB/s\n",
      "2021-11-03 11:38:49.085074: I tensorflow/stream_executor/platform/default/dso_loader.cc:49] Successfully opened dynamic library libcudart.so.11.0\n",
      "2021-11-03 11:38:49.115788: I tensorflow/stream_executor/platform/default/dso_loader.cc:49] Successfully opened dynamic library libcublas.so.11\n",
      "2021-11-03 11:38:49.115994: I tensorflow/stream_executor/platform/default/dso_loader.cc:49] Successfully opened dynamic library libcublasLt.so.11\n",
      "2021-11-03 11:38:49.134439: I tensorflow/stream_executor/platform/default/dso_loader.cc:49] Successfully opened dynamic library libcufft.so.10\n",
      "2021-11-03 11:38:49.144024: I tensorflow/stream_executor/platform/default/dso_loader.cc:49] Successfully opened dynamic library libcurand.so.10\n",
      "2021-11-03 11:38:49.172509: I tensorflow/stream_executor/platform/default/dso_loader.cc:49] Successfully opened dynamic library libcusolver.so.10\n",
      "2021-11-03 11:38:49.181350: I tensorflow/stream_executor/platform/default/dso_loader.cc:49] Successfully opened dynamic library libcusparse.so.11\n",
      "2021-11-03 11:38:49.185731: I tensorflow/stream_executor/platform/default/dso_loader.cc:49] Successfully opened dynamic library libcudnn.so.8\n",
      "2021-11-03 11:38:49.185983: I tensorflow/stream_executor/cuda/cuda_gpu_executor.cc:941] successful NUMA node read from SysFS had negative value (-1), but there must be at least one NUMA node, so returning NUMA node zero\n",
      "2021-11-03 11:38:49.187237: I tensorflow/stream_executor/cuda/cuda_gpu_executor.cc:941] successful NUMA node read from SysFS had negative value (-1), but there must be at least one NUMA node, so returning NUMA node zero\n",
      "2021-11-03 11:38:49.189588: I tensorflow/core/common_runtime/gpu/gpu_device.cc:1862] Adding visible gpu devices: 0\n",
      "2021-11-03 11:38:49.190305: I tensorflow/core/platform/cpu_feature_guard.cc:142] This TensorFlow binary is optimized with oneAPI Deep Neural Network Library (oneDNN) to use the following CPU instructions in performance-critical operations:  AVX2 FMA\n",
      "To enable them in other operations, rebuild TensorFlow with the appropriate compiler flags.\n",
      "2021-11-03 11:38:49.190587: I tensorflow/compiler/jit/xla_gpu_device.cc:99] Not creating XLA devices, tf_xla_enable_xla_devices not set\n",
      "2021-11-03 11:38:49.190842: I tensorflow/stream_executor/cuda/cuda_gpu_executor.cc:941] successful NUMA node read from SysFS had negative value (-1), but there must be at least one NUMA node, so returning NUMA node zero\n",
      "2021-11-03 11:38:49.191924: I tensorflow/core/common_runtime/gpu/gpu_device.cc:1720] Found device 0 with properties: \n",
      "pciBusID: 0000:00:04.0 name: Tesla P100-PCIE-16GB computeCapability: 6.0\n",
      "coreClock: 1.3285GHz coreCount: 56 deviceMemorySize: 15.90GiB deviceMemoryBandwidth: 681.88GiB/s\n",
      "2021-11-03 11:38:49.191972: I tensorflow/stream_executor/platform/default/dso_loader.cc:49] Successfully opened dynamic library libcudart.so.11.0\n",
      "2021-11-03 11:38:49.192014: I tensorflow/stream_executor/platform/default/dso_loader.cc:49] Successfully opened dynamic library libcublas.so.11\n",
      "2021-11-03 11:38:49.192053: I tensorflow/stream_executor/platform/default/dso_loader.cc:49] Successfully opened dynamic library libcublasLt.so.11\n",
      "2021-11-03 11:38:49.192090: I tensorflow/stream_executor/platform/default/dso_loader.cc:49] Successfully opened dynamic library libcufft.so.10\n",
      "2021-11-03 11:38:49.192126: I tensorflow/stream_executor/platform/default/dso_loader.cc:49] Successfully opened dynamic library libcurand.so.10\n",
      "2021-11-03 11:38:49.192161: I tensorflow/stream_executor/platform/default/dso_loader.cc:49] Successfully opened dynamic library libcusolver.so.10\n",
      "2021-11-03 11:38:49.192198: I tensorflow/stream_executor/platform/default/dso_loader.cc:49] Successfully opened dynamic library libcusparse.so.11\n",
      "2021-11-03 11:38:49.192235: I tensorflow/stream_executor/platform/default/dso_loader.cc:49] Successfully opened dynamic library libcudnn.so.8\n",
      "2021-11-03 11:38:49.192360: I tensorflow/stream_executor/cuda/cuda_gpu_executor.cc:941] successful NUMA node read from SysFS had negative value (-1), but there must be at least one NUMA node, so returning NUMA node zero\n",
      "2021-11-03 11:38:49.193399: I tensorflow/stream_executor/cuda/cuda_gpu_executor.cc:941] successful NUMA node read from SysFS had negative value (-1), but there must be at least one NUMA node, so returning NUMA node zero\n",
      "2021-11-03 11:38:49.194386: I tensorflow/core/common_runtime/gpu/gpu_device.cc:1862] Adding visible gpu devices: 0\n",
      "2021-11-03 11:38:49.195367: I tensorflow/stream_executor/platform/default/dso_loader.cc:49] Successfully opened dynamic library libcudart.so.11.0\n",
      "2021-11-03 11:38:51.068587: I tensorflow/core/common_runtime/gpu/gpu_device.cc:1261] Device interconnect StreamExecutor with strength 1 edge matrix:\n",
      "2021-11-03 11:38:51.068670: I tensorflow/core/common_runtime/gpu/gpu_device.cc:1267]      0 \n",
      "2021-11-03 11:38:51.068684: I tensorflow/core/common_runtime/gpu/gpu_device.cc:1280] 0:   N \n",
      "2021-11-03 11:38:51.071298: I tensorflow/stream_executor/cuda/cuda_gpu_executor.cc:941] successful NUMA node read from SysFS had negative value (-1), but there must be at least one NUMA node, so returning NUMA node zero\n",
      "2021-11-03 11:38:51.072435: I tensorflow/stream_executor/cuda/cuda_gpu_executor.cc:941] successful NUMA node read from SysFS had negative value (-1), but there must be at least one NUMA node, so returning NUMA node zero\n",
      "2021-11-03 11:38:51.073522: I tensorflow/stream_executor/cuda/cuda_gpu_executor.cc:941] successful NUMA node read from SysFS had negative value (-1), but there must be at least one NUMA node, so returning NUMA node zero\n",
      "2021-11-03 11:38:51.074579: I tensorflow/core/common_runtime/gpu/gpu_device.cc:1406] Created TensorFlow device (/job:localhost/replica:0/task:0/device:GPU:0 with 14957 MB memory) -> physical GPU (device: 0, name: Tesla P100-PCIE-16GB, pci bus id: 0000:00:04.0, compute capability: 6.0)\n"
     ]
    },
    {
     "name": "stdout",
     "output_type": "stream",
     "text": [
      "Downloading data from https://storage.googleapis.com/tensorflow/keras-applications/resnet/resnet101_weights_tf_dim_ordering_tf_kernels_notop.h5\n",
      "171450368/171446536 [==============================] - 5s 0us/step\n"
     ]
    },
    {
     "name": "stderr",
     "output_type": "stream",
     "text": [
      "2021-11-03 11:39:00.165536: I tensorflow/compiler/mlir/mlir_graph_optimization_pass.cc:116] None of the MLIR optimization passes are enabled (registered 2)\n",
      "2021-11-03 11:39:00.179125: I tensorflow/core/platform/profile_utils/cpu_utils.cc:112] CPU Frequency: 2199995000 Hz\n",
      "2021-11-03 11:39:02.434993: I tensorflow/stream_executor/platform/default/dso_loader.cc:49] Successfully opened dynamic library libcudnn.so.8\n",
      "2021-11-03 11:39:07.999327: I tensorflow/stream_executor/platform/default/dso_loader.cc:49] Successfully opened dynamic library libcublas.so.11\n",
      "2021-11-03 11:39:08.864870: I tensorflow/stream_executor/platform/default/dso_loader.cc:49] Successfully opened dynamic library libcublasLt.so.11\n"
     ]
    }
   ],
   "source": [
    "base_model = tf.keras.applications.ResNet101(\n",
    "    include_top=False,\n",
    "    weights=\"imagenet\",\n",
    "    input_tensor=None,\n",
    "    input_shape=img_shape,\n",
    "    pooling=None\n",
    ")\n",
    "\n",
    "X_feat_out = base_model.output\n",
    "X_feat_flatten = Flatten()(X_feat_out)\n",
    "\n",
    "X_feat_model = Model(inputs = base_model.input,outputs = X_feat_flatten)\n",
    "X_feat_train = X_feat_model.predict(X_train)\n",
    "X_feat_val = X_feat_model.predict(X_val)\n",
    "X_feat_test = X_feat_model.predict(X_test)\n",
    "\n",
    "Xm_feat_train = X_feat_model.predict(Xm_train)\n",
    "Xm_feat_val = X_feat_model.predict(Xm_val)\n",
    "Xm_feat_test = X_feat_model.predict(Xm_test)"
   ]
  },
  {
   "cell_type": "code",
   "execution_count": 12,
   "id": "a24f84e3",
   "metadata": {
    "execution": {
     "iopub.execute_input": "2021-11-03T11:39:11.925146Z",
     "iopub.status.busy": "2021-11-03T11:39:11.924151Z",
     "iopub.status.idle": "2021-11-03T11:39:12.185761Z",
     "shell.execute_reply": "2021-11-03T11:39:12.185178Z",
     "shell.execute_reply.started": "2021-10-26T15:07:26.699881Z"
    },
    "papermill": {
     "duration": 0.317838,
     "end_time": "2021-11-03T11:39:12.186025",
     "exception": false,
     "start_time": "2021-11-03T11:39:11.868187",
     "status": "completed"
    },
    "tags": []
   },
   "outputs": [],
   "source": [
    "from sklearn.pipeline import Pipeline\n",
    "from sklearn.svm import SVC\n",
    "from sklearn.ensemble import RandomForestClassifier\n",
    "from sklearn.ensemble import AdaBoostClassifier\n",
    "from sklearn.neighbors import KNeighborsClassifier\n",
    "from xgboost import XGBClassifier\n",
    "from sklearn.ensemble import BaggingClassifier\n",
    "from sklearn.neural_network import MLPClassifier\n",
    "from tensorflow.keras.layers import LSTM,Bidirectional,Reshape\n",
    "from sklearn.metrics import accuracy_score,recall_score,precision_score,f1_score,roc_auc_score,cohen_kappa_score"
   ]
  },
  {
   "cell_type": "code",
   "execution_count": 13,
   "id": "a9d9861d",
   "metadata": {
    "execution": {
     "iopub.execute_input": "2021-11-03T11:39:12.294713Z",
     "iopub.status.busy": "2021-11-03T11:39:12.293298Z",
     "iopub.status.idle": "2021-11-03T11:39:12.300142Z",
     "shell.execute_reply": "2021-11-03T11:39:12.300654Z",
     "shell.execute_reply.started": "2021-10-26T15:07:26.929527Z"
    },
    "papermill": {
     "duration": 0.065821,
     "end_time": "2021-11-03T11:39:12.300838",
     "exception": false,
     "start_time": "2021-11-03T11:39:12.235017",
     "status": "completed"
    },
    "tags": []
   },
   "outputs": [],
   "source": [
    "df = pd.DataFrame(columns = ['classifier',\"train_accuracy\",'val_accuracy',\"test_accuracy\",\"f1_measure\",\"kappa_score\",\"recall\",\"Precision\"])"
   ]
  },
  {
   "cell_type": "code",
   "execution_count": 14,
   "id": "20ac7926",
   "metadata": {
    "execution": {
     "iopub.execute_input": "2021-11-03T11:39:12.407768Z",
     "iopub.status.busy": "2021-11-03T11:39:12.406029Z",
     "iopub.status.idle": "2021-11-03T11:39:12.412132Z",
     "shell.execute_reply": "2021-11-03T11:39:12.411547Z",
     "shell.execute_reply.started": "2021-10-26T15:07:26.940259Z"
    },
    "papermill": {
     "duration": 0.063639,
     "end_time": "2021-11-03T11:39:12.412272",
     "exception": false,
     "start_time": "2021-11-03T11:39:12.348633",
     "status": "completed"
    },
    "tags": []
   },
   "outputs": [],
   "source": [
    "def eval(classifier_name,y_train,y_train_pred,y_val,y_val_pred,y_true,y_pred):\n",
    "    y_train = np.argmax(y_train,axis=1)\n",
    "#     y_train_pred = np.argmax(y_train_pred,axis=1)\n",
    "    y_val = np.argmax(y_val,axis=1)\n",
    "#     y_val_pred = np.argmax(y_val_pred,axis=1)\n",
    "    y_true = np.argmax(y_true,axis=1)\n",
    "#     y_pred = np.argmax(y_pred,axis=1)\n",
    "    \n",
    "    train_accuracy = round(accuracy_score(y_train,y_train_pred),4)\n",
    "    val_accuracy = round(accuracy_score(y_val,y_val_pred),4)\n",
    "    test_accuracy = round(accuracy_score(y_true,y_pred),4)\n",
    "    f1_measure = round(f1_score(y_true,y_pred,average='weighted'),4)\n",
    "    kappa_score = round(cohen_kappa_score(y_true,y_pred),4)\n",
    "    recall = round(recall_score(y_true,y_pred,average='weighted'),4)\n",
    "    precision = round(precision_score(y_true,y_pred,average='weighted'),4)\n",
    "    \n",
    "    score = {\"classifier\":classifier_name,\"train_accuracy\":train_accuracy , \"val_accuracy\":val_accuracy,\"test_accuracy\":test_accuracy,\"f1_measure\":f1_measure,\"kappa_score\":kappa_score,\"recall\":recall,\"precision\":precision}\n",
    "#     df = df.append(score,ignore_index=True)\n",
    "    df.loc[len(df.index)] = score.values()\n",
    "    for e,a in score.items():\n",
    "        print(e,a)\n",
    "    print(\"--\"*20)\n",
    "    "
   ]
  },
  {
   "cell_type": "code",
   "execution_count": 15,
   "id": "9e3339d8",
   "metadata": {
    "execution": {
     "iopub.execute_input": "2021-11-03T11:39:12.517587Z",
     "iopub.status.busy": "2021-11-03T11:39:12.515362Z",
     "iopub.status.idle": "2021-11-03T11:39:12.518453Z",
     "shell.execute_reply": "2021-11-03T11:39:12.519058Z",
     "shell.execute_reply.started": "2021-10-26T15:07:26.952127Z"
    },
    "papermill": {
     "duration": 0.058884,
     "end_time": "2021-11-03T11:39:12.519209",
     "exception": false,
     "start_time": "2021-11-03T11:39:12.460325",
     "status": "completed"
    },
    "tags": []
   },
   "outputs": [],
   "source": [
    "def classifier_eval(classifier,classifier_name,X_train,y_train,X_val,y_val,X_test,y_test):\n",
    "    \n",
    "    classifier.fit(X_train,np.argmax(y_train,axis=1))\n",
    "    \n",
    "    y_train_pred = classifier.predict(X_train)\n",
    "    y_val_pred = classifier.predict(X_val)\n",
    "    y_test_pred = classifier.predict(X_test)\n",
    "    \n",
    "    eval(classifier_name,y_train,y_train_pred,y_val,y_val_pred,y_test,y_test_pred)"
   ]
  },
  {
   "cell_type": "code",
   "execution_count": 16,
   "id": "7eedc54e",
   "metadata": {
    "execution": {
     "iopub.execute_input": "2021-11-03T11:39:12.649210Z",
     "iopub.status.busy": "2021-11-03T11:39:12.646476Z",
     "iopub.status.idle": "2021-11-03T11:39:12.652658Z",
     "shell.execute_reply": "2021-11-03T11:39:12.653491Z",
     "shell.execute_reply.started": "2021-10-26T15:07:26.964801Z"
    },
    "papermill": {
     "duration": 0.086268,
     "end_time": "2021-11-03T11:39:12.653782",
     "exception": false,
     "start_time": "2021-11-03T11:39:12.567514",
     "status": "completed"
    },
    "tags": []
   },
   "outputs": [],
   "source": [
    "names = ['SVM',\n",
    "    'Random Forest',\n",
    "    'AdaBoost',\n",
    "    'KNN',\n",
    "    'XGBoost',\n",
    "    'Bagging',\n",
    "    'ANN'\n",
    "        ]\n",
    "\n",
    "classifier = [\n",
    "    SVC(),\n",
    "    RandomForestClassifier(),\n",
    "    AdaBoostClassifier(),\n",
    "    KNeighborsClassifier(),\n",
    "    XGBClassifier(),\n",
    "    BaggingClassifier(),\n",
    "    MLPClassifier(max_iter = 400),\n",
    "]\n",
    "\n",
    "cls_list = zip(names,classifier)\n",
    "clsm_list = zip(names,classifier)"
   ]
  },
  {
   "cell_type": "code",
   "execution_count": 17,
   "id": "a1da726c",
   "metadata": {
    "execution": {
     "iopub.execute_input": "2021-11-03T11:39:12.782869Z",
     "iopub.status.busy": "2021-11-03T11:39:12.781507Z",
     "iopub.status.idle": "2021-11-03T11:49:36.136762Z",
     "shell.execute_reply": "2021-11-03T11:49:36.137487Z",
     "shell.execute_reply.started": "2021-10-26T15:07:26.974103Z"
    },
    "papermill": {
     "duration": 623.410881,
     "end_time": "2021-11-03T11:49:36.137678",
     "exception": false,
     "start_time": "2021-11-03T11:39:12.726797",
     "status": "completed"
    },
    "tags": []
   },
   "outputs": [
    {
     "name": "stderr",
     "output_type": "stream",
     "text": [
      "/opt/conda/lib/python3.7/site-packages/sklearn/metrics/_classification.py:1221: UndefinedMetricWarning: Precision is ill-defined and being set to 0.0 in labels with no predicted samples. Use `zero_division` parameter to control this behavior.\n",
      "  _warn_prf(average, modifier, msg_start, len(result))\n"
     ]
    },
    {
     "name": "stdout",
     "output_type": "stream",
     "text": [
      "classifier SVM\n",
      "train_accuracy 0.5721\n",
      "val_accuracy 0.5672\n",
      "test_accuracy 0.4957\n",
      "f1_measure 0.3286\n",
      "kappa_score 0.0\n",
      "recall 0.4957\n",
      "precision 0.2457\n",
      "----------------------------------------\n",
      "classifier Random Forest\n",
      "train_accuracy 1.0\n",
      "val_accuracy 0.6866\n",
      "test_accuracy 0.6838\n",
      "f1_measure 0.6624\n",
      "kappa_score 0.4454\n",
      "recall 0.6838\n",
      "precision 0.7286\n",
      "----------------------------------------\n",
      "classifier AdaBoost\n",
      "train_accuracy 0.8154\n",
      "val_accuracy 0.597\n",
      "test_accuracy 0.6496\n",
      "f1_measure 0.6373\n",
      "kappa_score 0.4082\n",
      "recall 0.6496\n",
      "precision 0.6431\n",
      "----------------------------------------\n",
      "classifier KNN\n",
      "train_accuracy 0.7718\n",
      "val_accuracy 0.7015\n",
      "test_accuracy 0.6838\n",
      "f1_measure 0.6728\n",
      "kappa_score 0.4693\n",
      "recall 0.6838\n",
      "precision 0.6734\n",
      "----------------------------------------\n"
     ]
    },
    {
     "name": "stderr",
     "output_type": "stream",
     "text": [
      "/opt/conda/lib/python3.7/site-packages/xgboost/sklearn.py:1146: UserWarning: The use of label encoder in XGBClassifier is deprecated and will be removed in a future release. To remove this warning, do the following: 1) Pass option use_label_encoder=False when constructing XGBClassifier object; and 2) Encode your labels (y) as integers starting with 0, i.e. 0, 1, 2, ..., [num_class - 1].\n",
      "  warnings.warn(label_encoder_deprecation_msg, UserWarning)\n"
     ]
    },
    {
     "name": "stdout",
     "output_type": "stream",
     "text": [
      "[11:40:49] WARNING: ../src/learner.cc:1095: Starting in XGBoost 1.3.0, the default evaluation metric used with the objective 'multi:softprob' was changed from 'merror' to 'mlogloss'. Explicitly set eval_metric if you'd like to restore the old behavior.\n",
      "classifier XGBoost\n",
      "train_accuracy 1.0\n",
      "val_accuracy 0.6866\n",
      "test_accuracy 0.7607\n",
      "f1_measure 0.7549\n",
      "kappa_score 0.5994\n",
      "recall 0.7607\n",
      "precision 0.7627\n",
      "----------------------------------------\n",
      "classifier Bagging\n",
      "train_accuracy 0.9765\n",
      "val_accuracy 0.6866\n",
      "test_accuracy 0.6325\n",
      "f1_measure 0.6129\n",
      "kappa_score 0.3665\n",
      "recall 0.6325\n",
      "precision 0.6355\n",
      "----------------------------------------\n",
      "classifier ANN\n",
      "train_accuracy 0.9295\n",
      "val_accuracy 0.6866\n",
      "test_accuracy 0.7521\n",
      "f1_measure 0.7469\n",
      "kappa_score 0.5834\n",
      "recall 0.7521\n",
      "precision 0.758\n",
      "----------------------------------------\n"
     ]
    }
   ],
   "source": [
    "for n,c in cls_list:\n",
    "    classifier_eval(c,n,X_feat_train,y_train.toarray(),X_feat_val,y_val.toarray(),X_feat_test,y_test.toarray())"
   ]
  },
  {
   "cell_type": "code",
   "execution_count": 18,
   "id": "02257001",
   "metadata": {
    "execution": {
     "iopub.execute_input": "2021-11-03T11:49:36.261682Z",
     "iopub.status.busy": "2021-11-03T11:49:36.260583Z",
     "iopub.status.idle": "2021-11-03T11:49:36.263162Z",
     "shell.execute_reply": "2021-11-03T11:49:36.263763Z",
     "shell.execute_reply.started": "2021-10-26T15:13:16.493896Z"
    },
    "papermill": {
     "duration": 0.073836,
     "end_time": "2021-11-03T11:49:36.263976",
     "exception": false,
     "start_time": "2021-11-03T11:49:36.190140",
     "status": "completed"
    },
    "tags": []
   },
   "outputs": [],
   "source": [
    "for l in base_model.layers:\n",
    "    l.trainable = False"
   ]
  },
  {
   "cell_type": "code",
   "execution_count": 19,
   "id": "39932efb",
   "metadata": {
    "execution": {
     "iopub.execute_input": "2021-11-03T11:49:36.381353Z",
     "iopub.status.busy": "2021-11-03T11:49:36.380023Z",
     "iopub.status.idle": "2021-11-03T11:49:39.593099Z",
     "shell.execute_reply": "2021-11-03T11:49:39.592460Z",
     "shell.execute_reply.started": "2021-10-26T15:13:16.514112Z"
    },
    "papermill": {
     "duration": 3.277005,
     "end_time": "2021-11-03T11:49:39.593274",
     "exception": false,
     "start_time": "2021-11-03T11:49:36.316269",
     "status": "completed"
    },
    "tags": []
   },
   "outputs": [],
   "source": [
    "lstm_model = Sequential()\n",
    "lstm_model.add(base_model)\n",
    "lstm_model.add(Reshape((base_model.output.shape[1]*base_model.output.shape[2],base_model.output.shape[3])))\n",
    "lstm_model.add(LSTM(128, dropout=0.5,recurrent_dropout=0.5))\n",
    "lstm_model.add(Dense(3,activation='softmax'))\n",
    "\n",
    "lstm_model.compile(optimizer='adam',loss='categorical_crossentropy',metrics=['acc'])"
   ]
  },
  {
   "cell_type": "code",
   "execution_count": 20,
   "id": "5b6f3d58",
   "metadata": {
    "execution": {
     "iopub.execute_input": "2021-11-03T11:49:39.708062Z",
     "iopub.status.busy": "2021-11-03T11:49:39.707323Z",
     "iopub.status.idle": "2021-11-03T11:49:40.996273Z",
     "shell.execute_reply": "2021-11-03T11:49:40.995451Z",
     "shell.execute_reply.started": "2021-10-26T15:13:18.715024Z"
    },
    "papermill": {
     "duration": 1.350955,
     "end_time": "2021-11-03T11:49:40.996420",
     "exception": false,
     "start_time": "2021-11-03T11:49:39.645465",
     "status": "completed"
    },
    "tags": []
   },
   "outputs": [],
   "source": [
    "bidir_model = Sequential()\n",
    "bidir_model.add(base_model)\n",
    "bidir_model.add(Reshape((base_model.output.shape[1]*base_model.output.shape[2],base_model.output.shape[3])))\n",
    "bidir_model.add(Bidirectional(LSTM(128, dropout=0.5,recurrent_dropout=0.5)))\n",
    "bidir_model.add(Dense(3,activation='softmax'))\n",
    "\n",
    "bidir_model.compile(optimizer='adam',loss='categorical_crossentropy',metrics=['acc'])"
   ]
  },
  {
   "cell_type": "code",
   "execution_count": 21,
   "id": "f17b9b57",
   "metadata": {
    "execution": {
     "iopub.execute_input": "2021-11-03T11:49:41.107291Z",
     "iopub.status.busy": "2021-11-03T11:49:41.106078Z",
     "iopub.status.idle": "2021-11-03T11:49:41.109514Z",
     "shell.execute_reply": "2021-11-03T11:49:41.108950Z",
     "shell.execute_reply.started": "2021-10-26T15:13:19.306352Z"
    },
    "papermill": {
     "duration": 0.061142,
     "end_time": "2021-11-03T11:49:41.109648",
     "exception": false,
     "start_time": "2021-11-03T11:49:41.048506",
     "status": "completed"
    },
    "tags": []
   },
   "outputs": [],
   "source": [
    "from tensorflow.keras.callbacks import EarlyStopping, ModelCheckpoint\n",
    "es = EarlyStopping(monitor='val_loss', mode='min', patience=4,restore_best_weights=True, verbose=1)"
   ]
  },
  {
   "cell_type": "code",
   "execution_count": 22,
   "id": "30e47242",
   "metadata": {
    "execution": {
     "iopub.execute_input": "2021-11-03T11:49:41.228629Z",
     "iopub.status.busy": "2021-11-03T11:49:41.227432Z",
     "iopub.status.idle": "2021-11-03T11:50:35.871704Z",
     "shell.execute_reply": "2021-11-03T11:50:35.871147Z",
     "shell.execute_reply.started": "2021-10-26T15:13:19.312797Z"
    },
    "papermill": {
     "duration": 54.709062,
     "end_time": "2021-11-03T11:50:35.871908",
     "exception": false,
     "start_time": "2021-11-03T11:49:41.162846",
     "status": "completed"
    },
    "tags": []
   },
   "outputs": [
    {
     "name": "stdout",
     "output_type": "stream",
     "text": [
      "Epoch 1/20\n",
      "19/19 [==============================] - 16s 322ms/step - loss: 1.0916 - acc: 0.4766 - val_loss: 0.9489 - val_acc: 0.5672\n",
      "Epoch 2/20\n",
      "19/19 [==============================] - 2s 123ms/step - loss: 0.9580 - acc: 0.5696 - val_loss: 0.9757 - val_acc: 0.5672\n",
      "Epoch 3/20\n",
      "19/19 [==============================] - 2s 125ms/step - loss: 0.9408 - acc: 0.5830 - val_loss: 0.9452 - val_acc: 0.5672\n",
      "Epoch 4/20\n",
      "19/19 [==============================] - 2s 123ms/step - loss: 0.9559 - acc: 0.5649 - val_loss: 0.8997 - val_acc: 0.6119\n",
      "Epoch 5/20\n",
      "19/19 [==============================] - 3s 143ms/step - loss: 0.9000 - acc: 0.6051 - val_loss: 0.8721 - val_acc: 0.6269\n",
      "Epoch 6/20\n",
      "19/19 [==============================] - 2s 122ms/step - loss: 0.9074 - acc: 0.5829 - val_loss: 0.9747 - val_acc: 0.6119\n",
      "Epoch 7/20\n",
      "19/19 [==============================] - 2s 129ms/step - loss: 0.9122 - acc: 0.6016 - val_loss: 0.8610 - val_acc: 0.6567\n",
      "Epoch 8/20\n",
      "19/19 [==============================] - 2s 125ms/step - loss: 0.8121 - acc: 0.6500 - val_loss: 0.9444 - val_acc: 0.6269\n",
      "Epoch 9/20\n",
      "19/19 [==============================] - 3s 147ms/step - loss: 0.8682 - acc: 0.6051 - val_loss: 0.8663 - val_acc: 0.6418\n",
      "Epoch 10/20\n",
      "19/19 [==============================] - 2s 123ms/step - loss: 0.8167 - acc: 0.6424 - val_loss: 0.8556 - val_acc: 0.6567\n",
      "Epoch 11/20\n",
      "19/19 [==============================] - 2s 120ms/step - loss: 0.8620 - acc: 0.6233 - val_loss: 0.8816 - val_acc: 0.6567\n",
      "Epoch 12/20\n",
      "19/19 [==============================] - 2s 123ms/step - loss: 0.8658 - acc: 0.6282 - val_loss: 0.8735 - val_acc: 0.6119\n",
      "Epoch 13/20\n",
      "19/19 [==============================] - 3s 162ms/step - loss: 0.8561 - acc: 0.6471 - val_loss: 0.8585 - val_acc: 0.6269\n",
      "Epoch 14/20\n",
      "19/19 [==============================] - 3s 167ms/step - loss: 0.8572 - acc: 0.5940 - val_loss: 0.8682 - val_acc: 0.6269\n",
      "Restoring model weights from the end of the best epoch.\n",
      "Epoch 00014: early stopping\n",
      "classifier LSTM\n",
      "train_accuracy 0.6258\n",
      "val_accuracy 0.6567\n",
      "test_accuracy 0.5897\n",
      "f1_measure 0.5101\n",
      "kappa_score 0.2418\n",
      "recall 0.5897\n",
      "precision 0.4855\n",
      "----------------------------------------\n"
     ]
    },
    {
     "name": "stderr",
     "output_type": "stream",
     "text": [
      "/opt/conda/lib/python3.7/site-packages/sklearn/metrics/_classification.py:1221: UndefinedMetricWarning: Precision is ill-defined and being set to 0.0 in labels with no predicted samples. Use `zero_division` parameter to control this behavior.\n",
      "  _warn_prf(average, modifier, msg_start, len(result))\n"
     ]
    }
   ],
   "source": [
    "history = lstm_model.fit(X_train,y_train.toarray(),epochs = 20,validation_data = (X_val,y_val.toarray()),callbacks = [es])\n",
    "lstm_train_predict = np.argmax(lstm_model.predict(X_train),axis=1)\n",
    "lstm_val_predict = np.argmax(lstm_model.predict(X_val),axis=1)\n",
    "lstm_test_predict = np.argmax(lstm_model.predict(X_test),axis=1)\n",
    "eval(\"LSTM\",y_train,lstm_train_predict,y_val,lstm_val_predict,y_test,lstm_test_predict)"
   ]
  },
  {
   "cell_type": "code",
   "execution_count": 23,
   "id": "ce52f0ca",
   "metadata": {
    "execution": {
     "iopub.execute_input": "2021-11-03T11:50:36.190782Z",
     "iopub.status.busy": "2021-11-03T11:50:36.183180Z",
     "iopub.status.idle": "2021-11-03T11:51:35.764267Z",
     "shell.execute_reply": "2021-11-03T11:51:35.765575Z",
     "shell.execute_reply.started": "2021-10-26T15:14:00.708997Z"
    },
    "papermill": {
     "duration": 59.741488,
     "end_time": "2021-11-03T11:51:35.765879",
     "exception": false,
     "start_time": "2021-11-03T11:50:36.024391",
     "status": "completed"
    },
    "tags": []
   },
   "outputs": [
    {
     "name": "stdout",
     "output_type": "stream",
     "text": [
      "Epoch 1/20\n",
      "19/19 [==============================] - 20s 390ms/step - loss: 1.0110 - acc: 0.5274 - val_loss: 0.9509 - val_acc: 0.5672\n",
      "Epoch 2/20\n",
      "19/19 [==============================] - 4s 209ms/step - loss: 0.9635 - acc: 0.5694 - val_loss: 0.8838 - val_acc: 0.6269\n",
      "Epoch 3/20\n",
      "19/19 [==============================] - 5s 267ms/step - loss: 0.9703 - acc: 0.5668 - val_loss: 0.9042 - val_acc: 0.6269\n",
      "Epoch 4/20\n",
      "19/19 [==============================] - 4s 227ms/step - loss: 0.9000 - acc: 0.6088 - val_loss: 0.8745 - val_acc: 0.6418\n",
      "Epoch 5/20\n",
      "19/19 [==============================] - 4s 231ms/step - loss: 0.9134 - acc: 0.5956 - val_loss: 0.8581 - val_acc: 0.6418\n",
      "Epoch 6/20\n",
      "19/19 [==============================] - 4s 210ms/step - loss: 0.8637 - acc: 0.6199 - val_loss: 0.8603 - val_acc: 0.6567\n",
      "Epoch 7/20\n",
      "19/19 [==============================] - 4s 212ms/step - loss: 0.8623 - acc: 0.6470 - val_loss: 0.8691 - val_acc: 0.6567\n",
      "Epoch 8/20\n",
      "19/19 [==============================] - 4s 204ms/step - loss: 0.8564 - acc: 0.6261 - val_loss: 0.8955 - val_acc: 0.5672\n",
      "Epoch 9/20\n",
      "19/19 [==============================] - 4s 206ms/step - loss: 0.8948 - acc: 0.6076 - val_loss: 0.8704 - val_acc: 0.6567\n",
      "Restoring model weights from the end of the best epoch.\n",
      "Epoch 00009: early stopping\n",
      "classifier Bi-dir\n",
      "train_accuracy 0.6275\n",
      "val_accuracy 0.6418\n",
      "test_accuracy 0.5812\n",
      "f1_measure 0.518\n",
      "kappa_score 0.2616\n",
      "recall 0.5812\n",
      "precision 0.4685\n",
      "----------------------------------------\n"
     ]
    }
   ],
   "source": [
    "history = bidir_model.fit(X_train,y_train.toarray(),epochs = 20,validation_data = (X_val,y_val.toarray()),callbacks = [es])\n",
    "bidir_train_predict = np.argmax(bidir_model.predict(X_train),axis=1)\n",
    "bidir_val_predict = np.argmax(bidir_model.predict(X_val),axis=1)\n",
    "bidir_test_predict = np.argmax(bidir_model.predict(X_test),axis=1)\n",
    "eval(\"Bi-dir\",y_train,bidir_train_predict,y_val,bidir_val_predict,y_test,bidir_test_predict)"
   ]
  },
  {
   "cell_type": "code",
   "execution_count": 24,
   "id": "d6b367ad",
   "metadata": {
    "execution": {
     "iopub.execute_input": "2021-11-03T11:51:36.518885Z",
     "iopub.status.busy": "2021-11-03T11:51:36.517926Z",
     "iopub.status.idle": "2021-11-03T11:51:36.553252Z",
     "shell.execute_reply": "2021-11-03T11:51:36.555247Z",
     "shell.execute_reply.started": "2021-10-26T15:14:57.498674Z"
    },
    "papermill": {
     "duration": 0.409678,
     "end_time": "2021-11-03T11:51:36.556471",
     "exception": false,
     "start_time": "2021-11-03T11:51:36.146793",
     "status": "completed"
    },
    "tags": []
   },
   "outputs": [
    {
     "data": {
      "text/html": [
       "<div>\n",
       "<style scoped>\n",
       "    .dataframe tbody tr th:only-of-type {\n",
       "        vertical-align: middle;\n",
       "    }\n",
       "\n",
       "    .dataframe tbody tr th {\n",
       "        vertical-align: top;\n",
       "    }\n",
       "\n",
       "    .dataframe thead th {\n",
       "        text-align: right;\n",
       "    }\n",
       "</style>\n",
       "<table border=\"1\" class=\"dataframe\">\n",
       "  <thead>\n",
       "    <tr style=\"text-align: right;\">\n",
       "      <th></th>\n",
       "      <th>classifier</th>\n",
       "      <th>train_accuracy</th>\n",
       "      <th>val_accuracy</th>\n",
       "      <th>test_accuracy</th>\n",
       "      <th>f1_measure</th>\n",
       "      <th>kappa_score</th>\n",
       "      <th>recall</th>\n",
       "      <th>Precision</th>\n",
       "    </tr>\n",
       "  </thead>\n",
       "  <tbody>\n",
       "    <tr>\n",
       "      <th>0</th>\n",
       "      <td>SVM</td>\n",
       "      <td>0.5721</td>\n",
       "      <td>0.5672</td>\n",
       "      <td>0.4957</td>\n",
       "      <td>0.3286</td>\n",
       "      <td>0.0000</td>\n",
       "      <td>0.4957</td>\n",
       "      <td>0.2457</td>\n",
       "    </tr>\n",
       "    <tr>\n",
       "      <th>1</th>\n",
       "      <td>Random Forest</td>\n",
       "      <td>1.0000</td>\n",
       "      <td>0.6866</td>\n",
       "      <td>0.6838</td>\n",
       "      <td>0.6624</td>\n",
       "      <td>0.4454</td>\n",
       "      <td>0.6838</td>\n",
       "      <td>0.7286</td>\n",
       "    </tr>\n",
       "    <tr>\n",
       "      <th>2</th>\n",
       "      <td>AdaBoost</td>\n",
       "      <td>0.8154</td>\n",
       "      <td>0.5970</td>\n",
       "      <td>0.6496</td>\n",
       "      <td>0.6373</td>\n",
       "      <td>0.4082</td>\n",
       "      <td>0.6496</td>\n",
       "      <td>0.6431</td>\n",
       "    </tr>\n",
       "    <tr>\n",
       "      <th>3</th>\n",
       "      <td>KNN</td>\n",
       "      <td>0.7718</td>\n",
       "      <td>0.7015</td>\n",
       "      <td>0.6838</td>\n",
       "      <td>0.6728</td>\n",
       "      <td>0.4693</td>\n",
       "      <td>0.6838</td>\n",
       "      <td>0.6734</td>\n",
       "    </tr>\n",
       "    <tr>\n",
       "      <th>4</th>\n",
       "      <td>XGBoost</td>\n",
       "      <td>1.0000</td>\n",
       "      <td>0.6866</td>\n",
       "      <td>0.7607</td>\n",
       "      <td>0.7549</td>\n",
       "      <td>0.5994</td>\n",
       "      <td>0.7607</td>\n",
       "      <td>0.7627</td>\n",
       "    </tr>\n",
       "    <tr>\n",
       "      <th>5</th>\n",
       "      <td>Bagging</td>\n",
       "      <td>0.9765</td>\n",
       "      <td>0.6866</td>\n",
       "      <td>0.6325</td>\n",
       "      <td>0.6129</td>\n",
       "      <td>0.3665</td>\n",
       "      <td>0.6325</td>\n",
       "      <td>0.6355</td>\n",
       "    </tr>\n",
       "    <tr>\n",
       "      <th>6</th>\n",
       "      <td>ANN</td>\n",
       "      <td>0.9295</td>\n",
       "      <td>0.6866</td>\n",
       "      <td>0.7521</td>\n",
       "      <td>0.7469</td>\n",
       "      <td>0.5834</td>\n",
       "      <td>0.7521</td>\n",
       "      <td>0.7580</td>\n",
       "    </tr>\n",
       "    <tr>\n",
       "      <th>7</th>\n",
       "      <td>LSTM</td>\n",
       "      <td>0.6258</td>\n",
       "      <td>0.6567</td>\n",
       "      <td>0.5897</td>\n",
       "      <td>0.5101</td>\n",
       "      <td>0.2418</td>\n",
       "      <td>0.5897</td>\n",
       "      <td>0.4855</td>\n",
       "    </tr>\n",
       "    <tr>\n",
       "      <th>8</th>\n",
       "      <td>Bi-dir</td>\n",
       "      <td>0.6275</td>\n",
       "      <td>0.6418</td>\n",
       "      <td>0.5812</td>\n",
       "      <td>0.5180</td>\n",
       "      <td>0.2616</td>\n",
       "      <td>0.5812</td>\n",
       "      <td>0.4685</td>\n",
       "    </tr>\n",
       "  </tbody>\n",
       "</table>\n",
       "</div>"
      ],
      "text/plain": [
       "      classifier  train_accuracy  val_accuracy  test_accuracy  f1_measure  \\\n",
       "0            SVM          0.5721        0.5672         0.4957      0.3286   \n",
       "1  Random Forest          1.0000        0.6866         0.6838      0.6624   \n",
       "2       AdaBoost          0.8154        0.5970         0.6496      0.6373   \n",
       "3            KNN          0.7718        0.7015         0.6838      0.6728   \n",
       "4        XGBoost          1.0000        0.6866         0.7607      0.7549   \n",
       "5        Bagging          0.9765        0.6866         0.6325      0.6129   \n",
       "6            ANN          0.9295        0.6866         0.7521      0.7469   \n",
       "7           LSTM          0.6258        0.6567         0.5897      0.5101   \n",
       "8         Bi-dir          0.6275        0.6418         0.5812      0.5180   \n",
       "\n",
       "   kappa_score  recall  Precision  \n",
       "0       0.0000  0.4957     0.2457  \n",
       "1       0.4454  0.6838     0.7286  \n",
       "2       0.4082  0.6496     0.6431  \n",
       "3       0.4693  0.6838     0.6734  \n",
       "4       0.5994  0.7607     0.7627  \n",
       "5       0.3665  0.6325     0.6355  \n",
       "6       0.5834  0.7521     0.7580  \n",
       "7       0.2418  0.5897     0.4855  \n",
       "8       0.2616  0.5812     0.4685  "
      ]
     },
     "execution_count": 24,
     "metadata": {},
     "output_type": "execute_result"
    }
   ],
   "source": [
    "df"
   ]
  },
  {
   "cell_type": "code",
   "execution_count": 25,
   "id": "505186ec",
   "metadata": {
    "execution": {
     "iopub.execute_input": "2021-11-03T11:51:37.012086Z",
     "iopub.status.busy": "2021-11-03T11:51:37.010915Z",
     "iopub.status.idle": "2021-11-03T11:51:37.667800Z",
     "shell.execute_reply": "2021-11-03T11:51:37.667140Z",
     "shell.execute_reply.started": "2021-10-26T15:16:18.380665Z"
    },
    "papermill": {
     "duration": 0.8866,
     "end_time": "2021-11-03T11:51:37.668016",
     "exception": false,
     "start_time": "2021-11-03T11:51:36.781416",
     "status": "completed"
    },
    "tags": []
   },
   "outputs": [],
   "source": [
    "df.to_excel(\"RESNET101.xlsx\",index=False)"
   ]
  },
  {
   "cell_type": "code",
   "execution_count": 26,
   "id": "6abcd51a",
   "metadata": {
    "execution": {
     "iopub.execute_input": "2021-11-03T11:51:38.126704Z",
     "iopub.status.busy": "2021-11-03T11:51:38.125388Z",
     "iopub.status.idle": "2021-11-03T11:58:38.223489Z",
     "shell.execute_reply": "2021-11-03T11:58:38.224091Z"
    },
    "papermill": {
     "duration": 420.331975,
     "end_time": "2021-11-03T11:58:38.224285",
     "exception": false,
     "start_time": "2021-11-03T11:51:37.892310",
     "status": "completed"
    },
    "tags": []
   },
   "outputs": [
    {
     "name": "stdout",
     "output_type": "stream",
     "text": [
      "classifier SVM\n",
      "train_accuracy 0.8641\n",
      "val_accuracy 0.806\n",
      "test_accuracy 0.8632\n",
      "f1_measure 0.8561\n",
      "kappa_score 0.7573\n",
      "recall 0.8632\n",
      "precision 0.8677\n",
      "----------------------------------------\n",
      "classifier Random Forest\n",
      "train_accuracy 1.0\n",
      "val_accuracy 0.8209\n",
      "test_accuracy 0.906\n",
      "f1_measure 0.9056\n",
      "kappa_score 0.8378\n",
      "recall 0.906\n",
      "precision 0.9053\n",
      "----------------------------------------\n",
      "classifier AdaBoost\n",
      "train_accuracy 0.8372\n",
      "val_accuracy 0.7313\n",
      "test_accuracy 0.8205\n",
      "f1_measure 0.8259\n",
      "kappa_score 0.706\n",
      "recall 0.8205\n",
      "precision 0.8478\n",
      "----------------------------------------\n",
      "classifier KNN\n",
      "train_accuracy 0.9178\n",
      "val_accuracy 0.806\n",
      "test_accuracy 0.8547\n",
      "f1_measure 0.8526\n",
      "kappa_score 0.7472\n",
      "recall 0.8547\n",
      "precision 0.852\n",
      "----------------------------------------\n"
     ]
    },
    {
     "name": "stderr",
     "output_type": "stream",
     "text": [
      "/opt/conda/lib/python3.7/site-packages/xgboost/sklearn.py:1146: UserWarning: The use of label encoder in XGBClassifier is deprecated and will be removed in a future release. To remove this warning, do the following: 1) Pass option use_label_encoder=False when constructing XGBClassifier object; and 2) Encode your labels (y) as integers starting with 0, i.e. 0, 1, 2, ..., [num_class - 1].\n",
      "  warnings.warn(label_encoder_deprecation_msg, UserWarning)\n"
     ]
    },
    {
     "name": "stdout",
     "output_type": "stream",
     "text": [
      "[11:53:03] WARNING: ../src/learner.cc:1095: Starting in XGBoost 1.3.0, the default evaluation metric used with the objective 'multi:softprob' was changed from 'merror' to 'mlogloss'. Explicitly set eval_metric if you'd like to restore the old behavior.\n",
      "classifier XGBoost\n",
      "train_accuracy 1.0\n",
      "val_accuracy 0.8806\n",
      "test_accuracy 0.8889\n",
      "f1_measure 0.8891\n",
      "kappa_score 0.8111\n",
      "recall 0.8889\n",
      "precision 0.8898\n",
      "----------------------------------------\n",
      "classifier Bagging\n",
      "train_accuracy 0.9916\n",
      "val_accuracy 0.8507\n",
      "test_accuracy 0.9145\n",
      "f1_measure 0.9128\n",
      "kappa_score 0.8506\n",
      "recall 0.9145\n",
      "precision 0.9142\n",
      "----------------------------------------\n",
      "classifier ANN\n",
      "train_accuracy 1.0\n",
      "val_accuracy 0.8806\n",
      "test_accuracy 0.9231\n",
      "f1_measure 0.9227\n",
      "kappa_score 0.8673\n",
      "recall 0.9231\n",
      "precision 0.9226\n",
      "----------------------------------------\n"
     ]
    }
   ],
   "source": [
    "df = pd.DataFrame(columns = ['classifier',\"train_accuracy\",'val_accuracy',\"test_accuracy\",\"f1_measure\",\"kappa_score\",\"recall\",\"Precision\"])\n",
    "for n,c in clsm_list:\n",
    "    classifier_eval(c,n,Xm_feat_train,ym_train.toarray(),Xm_feat_val,ym_val.toarray(),Xm_feat_test,ym_test.toarray())"
   ]
  },
  {
   "cell_type": "code",
   "execution_count": 27,
   "id": "9651cf03",
   "metadata": {
    "execution": {
     "iopub.execute_input": "2021-11-03T11:58:38.706763Z",
     "iopub.status.busy": "2021-11-03T11:58:38.705523Z",
     "iopub.status.idle": "2021-11-03T11:59:57.011140Z",
     "shell.execute_reply": "2021-11-03T11:59:57.012120Z"
    },
    "papermill": {
     "duration": 78.545291,
     "end_time": "2021-11-03T11:59:57.012326",
     "exception": false,
     "start_time": "2021-11-03T11:58:38.467035",
     "status": "completed"
    },
    "tags": []
   },
   "outputs": [
    {
     "name": "stdout",
     "output_type": "stream",
     "text": [
      "Epoch 1/20\n",
      "19/19 [==============================] - 2s 128ms/step - loss: 1.1072 - acc: 0.5067 - val_loss: 0.8763 - val_acc: 0.5970\n",
      "Epoch 2/20\n",
      "19/19 [==============================] - 3s 149ms/step - loss: 0.7889 - acc: 0.6107 - val_loss: 0.7031 - val_acc: 0.7164\n",
      "Epoch 3/20\n",
      "19/19 [==============================] - 2s 121ms/step - loss: 0.5695 - acc: 0.7534 - val_loss: 0.5605 - val_acc: 0.7761\n",
      "Epoch 4/20\n",
      "19/19 [==============================] - 3s 166ms/step - loss: 0.4556 - acc: 0.8054 - val_loss: 0.6686 - val_acc: 0.7612\n",
      "Epoch 5/20\n",
      "19/19 [==============================] - 2s 121ms/step - loss: 0.3692 - acc: 0.8557 - val_loss: 0.4383 - val_acc: 0.8060\n",
      "Epoch 6/20\n",
      "19/19 [==============================] - 3s 144ms/step - loss: 0.3104 - acc: 0.8775 - val_loss: 0.4167 - val_acc: 0.8657\n",
      "Epoch 7/20\n",
      "19/19 [==============================] - 2s 122ms/step - loss: 0.3220 - acc: 0.8725 - val_loss: 0.4003 - val_acc: 0.8060\n",
      "Epoch 8/20\n",
      "19/19 [==============================] - 2s 122ms/step - loss: 0.2937 - acc: 0.8809 - val_loss: 0.5080 - val_acc: 0.8358\n",
      "Epoch 9/20\n",
      "19/19 [==============================] - 2s 123ms/step - loss: 0.2466 - acc: 0.9077 - val_loss: 0.5066 - val_acc: 0.8507\n",
      "Epoch 10/20\n",
      "19/19 [==============================] - 3s 146ms/step - loss: 0.2743 - acc: 0.8960 - val_loss: 0.4181 - val_acc: 0.8657\n",
      "Epoch 11/20\n",
      "19/19 [==============================] - 2s 122ms/step - loss: 0.2596 - acc: 0.9044 - val_loss: 0.4962 - val_acc: 0.8209\n",
      "Restoring model weights from the end of the best epoch.\n",
      "Epoch 00011: early stopping\n",
      "classifier LSTM\n",
      "train_accuracy 0.9346\n",
      "val_accuracy 0.806\n",
      "test_accuracy 0.906\n",
      "f1_measure 0.9071\n",
      "kappa_score 0.8407\n",
      "recall 0.906\n",
      "precision 0.9096\n",
      "----------------------------------------\n",
      "Epoch 1/20\n",
      "19/19 [==============================] - 5s 228ms/step - loss: 1.0240 - acc: 0.5201 - val_loss: 0.8093 - val_acc: 0.7313\n",
      "Epoch 2/20\n",
      "19/19 [==============================] - 4s 231ms/step - loss: 0.7339 - acc: 0.6980 - val_loss: 0.5854 - val_acc: 0.7612\n",
      "Epoch 3/20\n",
      "19/19 [==============================] - 5s 247ms/step - loss: 0.4687 - acc: 0.8188 - val_loss: 0.4648 - val_acc: 0.7612\n",
      "Epoch 4/20\n",
      "19/19 [==============================] - 4s 238ms/step - loss: 0.3603 - acc: 0.8456 - val_loss: 0.4618 - val_acc: 0.8060\n",
      "Epoch 5/20\n",
      "19/19 [==============================] - 4s 205ms/step - loss: 0.3419 - acc: 0.8708 - val_loss: 0.4964 - val_acc: 0.7761\n",
      "Epoch 6/20\n",
      "19/19 [==============================] - 4s 205ms/step - loss: 0.3197 - acc: 0.8591 - val_loss: 0.4052 - val_acc: 0.8358\n",
      "Epoch 7/20\n",
      "19/19 [==============================] - 5s 250ms/step - loss: 0.2494 - acc: 0.9144 - val_loss: 0.4952 - val_acc: 0.8358\n",
      "Epoch 8/20\n",
      "19/19 [==============================] - 4s 207ms/step - loss: 0.2622 - acc: 0.9027 - val_loss: 0.4927 - val_acc: 0.7910\n",
      "Epoch 9/20\n",
      "19/19 [==============================] - 5s 241ms/step - loss: 0.2421 - acc: 0.9027 - val_loss: 0.4870 - val_acc: 0.8209\n",
      "Epoch 10/20\n",
      "19/19 [==============================] - 5s 252ms/step - loss: 0.1921 - acc: 0.9346 - val_loss: 0.5100 - val_acc: 0.8209\n",
      "Restoring model weights from the end of the best epoch.\n",
      "Epoch 00010: early stopping\n",
      "classifier Bi-LSTM\n",
      "train_accuracy 0.9211\n",
      "val_accuracy 0.8358\n",
      "test_accuracy 0.8803\n",
      "f1_measure 0.8792\n",
      "kappa_score 0.7927\n",
      "recall 0.8803\n",
      "precision 0.8788\n",
      "----------------------------------------\n"
     ]
    }
   ],
   "source": [
    "history = lstm_model.fit(Xm_train,ym_train.toarray(),epochs = 20,validation_data = (Xm_val,ym_val.toarray()),callbacks = [es])\n",
    "lstm_train_predict = np.argmax(lstm_model.predict(Xm_train),axis=1)\n",
    "lstm_val_predict = np.argmax(lstm_model.predict(Xm_val),axis=1)\n",
    "lstm_test_predict = np.argmax(lstm_model.predict(Xm_test),axis=1)\n",
    "eval(\"LSTM\",ym_train,lstm_train_predict,ym_val,lstm_val_predict,ym_test,lstm_test_predict)\n",
    "\n",
    "history = bidir_model.fit(Xm_train,ym_train.toarray(),epochs = 20,validation_data = (Xm_val,ym_val.toarray()),callbacks = [es])\n",
    "bidir_train_predict = np.argmax(bidir_model.predict(Xm_train),axis=1)\n",
    "bidir_val_predict = np.argmax(bidir_model.predict(Xm_val),axis=1)\n",
    "bidir_test_predict = np.argmax(bidir_model.predict(Xm_test),axis=1)\n",
    "eval(\"Bi-LSTM\",ym_train,bidir_train_predict,ym_val,bidir_val_predict,ym_test,bidir_test_predict)"
   ]
  },
  {
   "cell_type": "code",
   "execution_count": 28,
   "id": "470dab02",
   "metadata": {
    "execution": {
     "iopub.execute_input": "2021-11-03T11:59:57.763111Z",
     "iopub.status.busy": "2021-11-03T11:59:57.762452Z",
     "iopub.status.idle": "2021-11-03T11:59:57.783437Z",
     "shell.execute_reply": "2021-11-03T11:59:57.782912Z"
    },
    "papermill": {
     "duration": 0.403906,
     "end_time": "2021-11-03T11:59:57.783576",
     "exception": false,
     "start_time": "2021-11-03T11:59:57.379670",
     "status": "completed"
    },
    "tags": []
   },
   "outputs": [
    {
     "name": "stdout",
     "output_type": "stream",
     "text": [
      "      classifier  train_accuracy  val_accuracy  test_accuracy  f1_measure  \\\n",
      "0            SVM          0.8641        0.8060         0.8632      0.8561   \n",
      "1  Random Forest          1.0000        0.8209         0.9060      0.9056   \n",
      "2       AdaBoost          0.8372        0.7313         0.8205      0.8259   \n",
      "3            KNN          0.9178        0.8060         0.8547      0.8526   \n",
      "4        XGBoost          1.0000        0.8806         0.8889      0.8891   \n",
      "5        Bagging          0.9916        0.8507         0.9145      0.9128   \n",
      "6            ANN          1.0000        0.8806         0.9231      0.9227   \n",
      "7           LSTM          0.9346        0.8060         0.9060      0.9071   \n",
      "8        Bi-LSTM          0.9211        0.8358         0.8803      0.8792   \n",
      "\n",
      "   kappa_score  recall  Precision  \n",
      "0       0.7573  0.8632     0.8677  \n",
      "1       0.8378  0.9060     0.9053  \n",
      "2       0.7060  0.8205     0.8478  \n",
      "3       0.7472  0.8547     0.8520  \n",
      "4       0.8111  0.8889     0.8898  \n",
      "5       0.8506  0.9145     0.9142  \n",
      "6       0.8673  0.9231     0.9226  \n",
      "7       0.8407  0.9060     0.9096  \n",
      "8       0.7927  0.8803     0.8788  \n"
     ]
    }
   ],
   "source": [
    "print(df)\n",
    "df.to_excel(\"RESNET101_m.xlsx\",index=False)"
   ]
  }
 ],
 "metadata": {
  "kernelspec": {
   "display_name": "Python 3",
   "language": "python",
   "name": "python3"
  },
  "language_info": {
   "codemirror_mode": {
    "name": "ipython",
    "version": 3
   },
   "file_extension": ".py",
   "mimetype": "text/x-python",
   "name": "python",
   "nbconvert_exporter": "python",
   "pygments_lexer": "ipython3",
   "version": "3.7.10"
  },
  "papermill": {
   "default_parameters": {},
   "duration": 1321.29814,
   "end_time": "2021-11-03T12:00:01.767105",
   "environment_variables": {},
   "exception": null,
   "input_path": "__notebook__.ipynb",
   "output_path": "__notebook__.ipynb",
   "parameters": {},
   "start_time": "2021-11-03T11:38:00.468965",
   "version": "2.3.3"
  }
 },
 "nbformat": 4,
 "nbformat_minor": 5
}
